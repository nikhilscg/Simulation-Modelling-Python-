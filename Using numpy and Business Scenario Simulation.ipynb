{
 "cells": [
  {
   "cell_type": "markdown",
   "metadata": {},
   "source": [
    "# Lab 2 Worksheet\n",
    "\n",
    "**Name:**\n",
    "\n",
    "**Learning Objectives:**\n",
    "\n",
    "- Use `numpy` arrays to perform calculations. (Code)\n",
    "- Analyze airline pricing policies using simulation. (Code) "
   ]
  },
  {
   "cell_type": "markdown",
   "metadata": {},
   "source": [
    "# Case in Simulation Modeling: Pricing a Single Flight\n",
    "\n",
    "Trojan airlines is examining its policy in pricing its LAX to SFO departure on Thursday evenings. The selling horizon is the 180 days before depature. Based on studies done by the marketing team, there are two main customer segments who purchase this flight. Below are some summary statistics.\n",
    "\n",
    "Segment 1 (\"Leisure\" customers):\n",
    "\n",
    "- Size of customer segment: mean 200, standard deviation 60\n",
    "- Time of purchasing: approximately uniformly randomly from 180 days before departure to departure.\n",
    "- Maximum willingness to pay: mean 200, st. dev. 80.\n",
    "\n",
    "Segment 2 (\"Business\" customers):\n",
    "\n",
    "- Size: mean 60, st. dev. 20.\n",
    "- Time of purchasing: uniformly randomly from 14 days before departure to departure.\n",
    "- Maximum willingness to pay: mean 350, st. dev. 120.\n",
    "\n",
    "There are 100 seats on this flight (all economy class) and the fixed cost for operating each time is about $20,000.\n",
    "\n",
    "Currently the price of the flight is held fixed throughout the 180 day selling horizon (from 180 days before departure to just before departure). However, the pricing manager would like to explore the potential benefits of implementing revenue management (RM) techniques to improve profits.\n",
    "\n",
    "**RM policy 1:** increase the price for the last 14 days.\n",
    "\n",
    "**RM policy 2:** increase the price after a certain number of tickets have been sold.\n",
    "\n",
    "**You are hired to write a business report to the pricing manager to quantify the value of these more complex pricing strategies. **\n",
    " \n",
    "You can use the normal distribution to approximate segment size and willingness to pay (aka valuation). For each pricing policy, you should assume that the price is a multiple of 5 dollars, and that the optimal such price is used. The following code provides a template for your analysis. The key is to complete the four template functions. Refer to the \"numpy cheatsheet for commands that may be helpful.\"\n"
   ]
  },
  {
   "cell_type": "code",
   "execution_count": 4,
   "metadata": {
    "collapsed": true
   },
   "outputs": [],
   "source": [
    "from scipy.stats import norm,uniform\n",
    "import numpy as np\n",
    "import matplotlib.pyplot as plt\n",
    "distN1=norm(200,60)\n",
    "distN2=norm(60,20)\n",
    "distBuyTime1=uniform(loc=0,scale=180)\n",
    "distBuyTime2=uniform(loc=0,scale=14)\n",
    "distValue1=norm(200,80)\n",
    "distValue2=norm(350,120)\n",
    "inventory=100\n",
    "fixedCost=20000\n",
    "\n",
    "\n",
    "def generateScenario():\n",
    "    num1=int(max(0,distN1.rvs()))\n",
    "    num2=int(max(0,distN2.rvs()))\n",
    "    buyTimes1=distBuyTime1.rvs(size=num1)\n",
    "    buyTimes2=distBuyTime2.rvs(size=num2)\n",
    "    values1=distValue1.rvs(size=num1)\n",
    "    values2=distValue2.rvs(size=num2)\n",
    "    data=(np.vstack([np.hstack([buyTimes1,buyTimes2]),\n",
    "                     np.hstack([values1,values2])]))\n",
    "    return data[:,(-data[0,:]).argsort()] ## sends the data which arranges the data for all rows and the columns sorted in increasing order\n",
    "\n",
    "def simulatePrice(data,price):\n",
    "    tempticket = 0\n",
    "    temprevenue = 0\n",
    "    for i in data[1,:]:\n",
    "        if i>price:\n",
    "            tempticket=tempticket+1\n",
    "            temprevenue = temprevenue+price\n",
    "        if tempticket==100:\n",
    "            break\n",
    "    return temprevenue-fixedCost\n",
    "\n",
    "def simulateRM1(data,price1,price2):\n",
    "    curInv = inventory\n",
    "    temprev = 0\n",
    "    business = data[:,data[0,:]<=14]\n",
    "    leisure = data[:,data[0,:]>14]\n",
    "    numLeisure = min(curInv,sum(leisure[1,:]>=price1))\n",
    "    numBusiness = min(curInv-numLeisure,sum(business[1,:]>=price2))\n",
    "    return numLeisure*price1+numBusiness*price2-fixedCost\n",
    "\n",
    "\n",
    "def simulateRM2(data,price1,price2,quantity):\n",
    "    curInv = inventory\n",
    "    temprev = 0\n",
    "    price=price1\n",
    "    for t,v in data.T:\n",
    "        if v>=price:\n",
    "            temprev=temprev+price\n",
    "            curInv=curInv-1\n",
    "        if inventory-curInv==quantity:\n",
    "            price=price2\n",
    "        if curInv==0:\n",
    "            break\n",
    "    return temprev-fixedCost"
   ]
  },
  {
   "cell_type": "code",
   "execution_count": 13,
   "metadata": {},
   "outputs": [
    {
     "name": "stdout",
     "output_type": "stream",
     "text": [
      "Generated scenario=\n",
      " [[ 178.15721352  177.48024571  177.42338088  176.86254011  176.35382523]\n",
      " [ 117.13448941  209.10821731  147.91560775  183.87744038  160.88125403]]\n",
      "Expected profit of constant price with price=235. profit= 3500\n",
      "Expected profit of RM1 policy with price1=200, price2=240 profit= 1000\n",
      "Expected profit of RM2 policy with price1=200, price2=240, quantity=50 profit= 0\n"
     ]
    }
   ],
   "source": [
    "# Code to test\n",
    "data=generateScenario()\n",
    "print('Generated scenario=\\n',data[:,:5])\n",
    "print('Expected profit of constant price with price=235. profit=', simulatePrice(data,235))\n",
    "print('Expected profit of RM1 policy with price1=200, price2=240 profit=', simulateRM1(data,200,240))\n",
    "print('Expected profit of RM2 policy with price1=200, price2=240, quantity=50 profit=', simulateRM2(data,200,240,50))\n"
   ]
  },
  {
   "cell_type": "code",
   "execution_count": 10,
   "metadata": {},
   "outputs": [
    {
     "data": {
      "text/plain": [
       "100"
      ]
     },
     "execution_count": 10,
     "metadata": {},
     "output_type": "execute_result"
    }
   ],
   "source": [
    "num1=int(max(0,distN1.rvs()))\n",
    "num2=int(max(0,distN2.rvs()))\n",
    "buyTimes1=distBuyTime1.rvs(size=num1)\n",
    "buyTimes2=distBuyTime2.rvs(size=num2)\n",
    "values1=distValue1.rvs(size=num1)\n",
    "values2=distValue2.rvs(size=num2)\n",
    "data=(np.vstack([np.hstack([buyTimes1,buyTimes2]),\n",
    "                     np.hstack([values1,values2])]))\n",
    "    #return data[:,(-data[0,:]).argsort()] \n",
    "business = data[:,data[0,:]<=14]\n",
    "leisure = data[:,data[0,:]>14]   \n",
    "curInv = 100\n",
    "price1=200\n",
    "numLeisure = min(curInv,sum(leisure[1,:]>=price1))\n",
    "numLeisure"
   ]
  },
  {
   "cell_type": "code",
   "execution_count": 2,
   "metadata": {},
   "outputs": [
    {
     "data": {
      "image/png": "[encoded data removed]",
      "text/plain": [
       "<matplotlib.figure.Figure at 0x19d3ce86198>"
      ]
     },
     "metadata": {},
     "output_type": "display_data"
    },
    {
     "name": "stdout",
     "output_type": "stream",
     "text": [
      "Best constant price = 245, best profit=2454.25\n"
     ]
    }
   ],
   "source": [
    "# Optimization analysis for best constant price\n",
    "\n",
    "def analyzePrice():\n",
    "    prices=range(150,300,1)\n",
    "    np.random.seed(0)\n",
    "    dataSet=[generateScenario() for t in range(100)]\n",
    "    values=[np.average([simulatePrice(data,price) for data in dataSet]) for price in prices]\n",
    "    plt.plot(prices,values)\n",
    "    \n",
    "    plt.title('Revenue from constant price policy')\n",
    "    plt.xlabel('Price')\n",
    "    plt.ylabel('Revenue')\n",
    "    plt.show()\n",
    "    index=values.index(max(values))\n",
    "    \n",
    "    print ('Best constant price = {0}, best profit={1}'.format(prices[index],values[index]))\n",
    "        \n",
    "    \n",
    "analyzePrice()"
   ]
  },
  {
   "cell_type": "code",
   "execution_count": 22,
   "metadata": {},
   "outputs": [
    {
     "name": "stdout",
     "output_type": "stream",
     "text": [
      "2 Price policy: Best price1=235 Best price2=310, Best profit=3241.85\n"
     ]
    }
   ],
   "source": [
    "def analyzeRM1():\n",
    "    bestRev=0\n",
    "    bestPrice1=0\n",
    "    bestPrice2=0\n",
    "    np.random.seed(0)\n",
    "    dataSet=[generateScenario() for t in range(100)]\n",
    "    for price1 in range(150,500,5):\n",
    "        for price2 in range(price1,500,5):\n",
    "            rev=np.average([simulateRM1(data,price1,price2) for data in dataSet])\n",
    "            if rev>bestRev:\n",
    "                bestRev=rev\n",
    "                bestPrice1=price1\n",
    "                bestPrice2=price2\n",
    "    print ('2 Price policy: Best price1={0} Best price2={1}, Best profit={2}'.format(bestPrice1,bestPrice2,bestRev))\n",
    "analyzeRM1()"
   ]
  },
  {
   "cell_type": "code",
   "execution_count": 5,
   "metadata": {},
   "outputs": [
    {
     "name": "stdout",
     "output_type": "stream",
     "text": [
      "Best capacity control policy: price1=230 price2=320, Quantity1=59, Best profit=3647.0\n"
     ]
    }
   ],
   "source": [
    "def analyzeRM2():\n",
    "    bestRev=-1\n",
    "    np.random.seed(0)\n",
    "    dataSet=[generateScenario() for t in range(100)]\n",
    "    for price1 in range(225,246,5):\n",
    "        for price2 in range(290,331,5):\n",
    "            for quantity in range(1,100):\n",
    "                rev=np.average([simulateRM2(data,price1,price2,quantity) for data in dataSet])\n",
    "                if rev>bestRev:\n",
    "                    bestRev=rev\n",
    "                    bestPrice1=price1\n",
    "                    bestPrice2=price2\n",
    "                    bestQuantity=quantity\n",
    "                #print ('Best policy so far: price1={0} price2={1}, Quantity1={2}, Best profit={3}'.format(bestPrice1,bestPrice2,bestQuantity,bestRev))\n",
    "    print ('Best capacity control policy: price1={0} price2={1}, Quantity1={2}, Best profit={3}'.format(bestPrice1,bestPrice2,bestQuantity,bestRev))\n",
    "analyzeRM2()"
   ]
  },
  {
   "cell_type": "code",
   "execution_count": 10,
   "metadata": {},
   "outputs": [
    {
     "data": {
      "image/png": "[encoded data removed]",
      "text/plain": [
       "<matplotlib.figure.Figure at 0x19d3f4c9550>"
      ]
     },
     "metadata": {},
     "output_type": "display_data"
    },
    {
     "name": "stdout",
     "output_type": "stream",
     "text": [
      "Best capacity control policy: price1=230 price2=300, Quantity1=54, Best profit=3576.6\n"
     ]
    }
   ],
   "source": [
    "\n",
    "bestRev=-1\n",
    "rev1=[]\n",
    "np.random.seed(0)\n",
    "dataSet=[generateScenario() for t in range(100)]\n",
    "for quantity in range(1,100):\n",
    "    rev=np.average([simulateRM2(data,230,300,quantity) for data in dataSet])\n",
    "    rev1.append(rev)\n",
    "    if rev>bestRev:\n",
    "        bestRev=rev\n",
    "        bestPrice1=230\n",
    "        bestPrice2=300\n",
    "        bestQuantity=quantity\n",
    "q=range(1,100,1)\n",
    "plt.plot(q,rev1)\n",
    "plt.xlabel(\"Quantity of tickets sold before price increase\")\n",
    "plt.ylabel(\"Average Profits\")\n",
    "plt.title(\"Average Profits at P1=$230, P2=$300\")\n",
    "plt.plot(54,3577,'ro')\n",
    "plt.text(54,3577,r'Q=54 ,Av. Profit = $3577')\n",
    "plt.savefig('s3p300.png')\n",
    "plt.show()\n",
    "                #print ('Best policy so far: price1={0} price2={1}, Quantity1={2}, Best profit={3}'.format(bestPrice1,bestPrice2,bestQuantity,bestRev))\n",
    "print ('Best capacity control policy: price1={0} price2={1}, Quantity1={2}, Best profit={3}'.format(bestPrice1,bestPrice2,bestQuantity,bestRev))"
   ]
  },
  {
   "cell_type": "code",
   "execution_count": 12,
   "metadata": {},
   "outputs": [
    {
     "data": {
      "image/png": "[encoded data removed]",
      "text/plain": [
       "<matplotlib.figure.Figure at 0x19d3ec58f28>"
      ]
     },
     "metadata": {},
     "output_type": "display_data"
    },
    {
     "name": "stdout",
     "output_type": "stream",
     "text": [
      "Best capacity control policy: price1=230 price2=320, Quantity1=59, Best profit=3647.0\n"
     ]
    }
   ],
   "source": [
    "bestRev=-1\n",
    "rev1=[]\n",
    "np.random.seed(0)\n",
    "dataSet=[generateScenario() for t in range(100)]\n",
    "for quantity in range(1,100):\n",
    "    rev=np.average([simulateRM2(data,230,320,quantity) for data in dataSet])\n",
    "    rev1.append(rev)\n",
    "    if rev>bestRev:\n",
    "        bestRev=rev\n",
    "        bestPrice1=230\n",
    "        bestPrice2=320\n",
    "        bestQuantity=quantity\n",
    "q=range(1,100,1)\n",
    "plt.plot(q,rev1)\n",
    "plt.xlabel(\"Quantity of tickets sold before price increase\")\n",
    "plt.ylabel(\"Average Profits\")\n",
    "plt.title(\"Average Profits at P1=$230, P2=$320\")\n",
    "plt.plot(59,3647,'ro')\n",
    "plt.text(59,3647,r'Q=59 ,Av. Profit = $3647')\n",
    "plt.savefig('s3p320.png')\n",
    "plt.show()\n",
    "                #print ('Best policy so far: price1={0} price2={1}, Quantity1={2}, Best profit={3}'.format(bestPrice1,bestPrice2,bestQuantity,bestRev))\n",
    "print ('Best capacity control policy: price1={0} price2={1}, Quantity1={2}, Best profit={3}'.format(bestPrice1,bestPrice2,bestQuantity,bestRev))"
   ]
  },
  {
   "cell_type": "code",
   "execution_count": 15,
   "metadata": {},
   "outputs": [
    {
     "data": {
      "image/png": "[encoded data removed]",
      "text/plain": [
       "<matplotlib.figure.Figure at 0x19d3f0b56a0>"
      ]
     },
     "metadata": {},
     "output_type": "display_data"
    },
    {
     "name": "stdout",
     "output_type": "stream",
     "text": [
      "Best capacity control policy: price1=250 price2=320, Quantity1=65, Best profit=3165.2\n"
     ]
    }
   ],
   "source": [
    "bestRev=-1\n",
    "rev1=[]\n",
    "np.random.seed(0)\n",
    "dataSet=[generateScenario() for t in range(100)]\n",
    "for quantity in range(1,100):\n",
    "    rev=np.average([simulateRM2(data,250,320,quantity) for data in dataSet])\n",
    "    rev1.append(rev)\n",
    "    if rev>bestRev:\n",
    "        bestRev=rev\n",
    "        bestPrice1=250\n",
    "        bestPrice2=320\n",
    "        bestQuantity=quantity\n",
    "q=range(1,100,1)\n",
    "plt.plot(q,rev1)\n",
    "plt.xlabel(\"Quantity of tickets sold before price increase\")\n",
    "plt.ylabel(\"Average Profits\")\n",
    "plt.title(\"Average Profits at P1=$250, P2=$320\")\n",
    "plt.plot(65,3165,'ro')\n",
    "plt.text(65,3165,r'Q=65 ,Av. Profit = $3165')\n",
    "plt.savefig('s3p250.png')\n",
    "plt.show()\n",
    "                #print ('Best policy so far: price1={0} price2={1}, Quantity1={2}, Best profit={3}'.format(bestPrice1,bestPrice2,bestQuantity,bestRev))\n",
    "print ('Best capacity control policy: price1={0} price2={1}, Quantity1={2}, Best profit={3}'.format(bestPrice1,bestPrice2,bestQuantity,bestRev))"
   ]
  },
  {
   "cell_type": "markdown",
   "metadata": {},
   "source": [
    "# Numpy Arrays Cheatsheet\n",
    "\n",
    "A numpy array is an object that stores blocks of numbers in a n efficient way. A one-dimensional array is a list of numbers. A two-dimensional array is a table of numbers. There can also be three or higher dimensional arrays. Below are some commonly used commands to manipulate arrays. See the comments in the code for explanation."
   ]
  },
  {
   "cell_type": "code",
   "execution_count": 7,
   "metadata": {},
   "outputs": [
    {
     "name": "stdout",
     "output_type": "stream",
     "text": [
      "-----Creating numpy arrays-----------------\n",
      "X=[ 0.  0.  0.  0.  0.]\n",
      " Y=[[ 1.  1.  1.]\n",
      " [ 1.  1.  1.]]\n",
      " Z=[[1 2 3]\n",
      " [4 5 6]]\n",
      " K=[ 2  4  6  8 10 12]\n",
      " L=[  1.           1.47368421   1.94736842   2.42105263   2.89473684\n",
      "   3.36842105   3.84210526   4.31578947   4.78947368   5.26315789\n",
      "   5.73684211   6.21052632   6.68421053   7.15789474   7.63157895\n",
      "   8.10526316   8.57894737   9.05263158   9.52631579  10.        ]\n",
      "\n",
      "------Indexing-------------------------\n",
      "Z=\n",
      " [[1 2 3]\n",
      " [4 5 6]]\n",
      "K=\n",
      " [ 2  4  6  8 10 12]\n",
      "Z[0,1]= 2\n",
      "K[2]= 6\n",
      "Z[1]=Z[1,:] [4 5 6]\n",
      "Z[:,1]= [2 5]\n",
      "J= [1 0 0 1]\n",
      "Z[J,:]= [[4 5 6]\n",
      " [1 2 3]\n",
      " [1 2 3]\n",
      " [4 5 6]]\n",
      "Z[:,J]= [[2 1 1 2]\n",
      " [5 4 4 5]]\n",
      "K[:2]= [2 4]\n",
      "K[2:]= [ 6  8 10 12]\n",
      "K[1:3]= [4 6]\n",
      "Z[:,:2]=\n",
      " [[1 2]\n",
      " [4 5]]\n",
      "K[[True,True,False,False,True,True]]= [ 2  4 10 12]\n",
      "\n",
      "----Element wise operations----------------\n",
      "Z+Y=\n",
      " [[ 2.  3.  4.]\n",
      " [ 5.  6.  7.]]\n",
      "Z-Y=\n",
      " [[ 0.  1.  2.]\n",
      " [ 3.  4.  5.]]\n",
      "Z*2=\n",
      " [[ 2  4  6]\n",
      " [ 8 10 12]]\n",
      "Z/2=\n",
      " [[ 0.5  1.   1.5]\n",
      " [ 2.   2.5  3. ]]\n",
      "Z/Z=\n",
      " [[ 1.  1.  1.]\n",
      " [ 1.  1.  1.]]\n",
      "Z>3=\n",
      " [[False False False]\n",
      " [ True  True  True]]\n",
      "-Z=\n",
      " [[-1 -2 -3]\n",
      " [-4 -5 -6]]\n",
      "np.maximum(Z,3)=\n",
      " [[3 3 3]\n",
      " [4 5 6]]\n",
      "\n",
      "-----Simple Statistics---------------------\n",
      "np.sum(Z)= 21\n",
      "np.average(Z)= 3.5\n",
      "np.std(Z)= 1.70782512766\n",
      "np.max(Z)= 6\n",
      "Z>3= [[False False False]\n",
      " [ True  True  True]]\n",
      "np.sum(Z>3)= 3\n",
      "\n",
      "-----Manipulating---------------------\n",
      "Z.T=\n",
      " [[1 4]\n",
      " [2 5]\n",
      " [3 6]]\n",
      "X=np.copy(Z); X[np.where(X>=3)]=3\n",
      "X=\n",
      " [[1 2 3]\n",
      " [3 3 3]]\n",
      "np.hstack((Z,X))=\n",
      " [[1 2 3 1 2 3]\n",
      " [4 5 6 3 3 3]]\n",
      "np.vstack((Z,X))=\n",
      " [[1 2 3]\n",
      " [4 5 6]\n",
      " [1 2 3]\n",
      " [3 3 3]]\n",
      "K= [ 2  4  6  8 10 12]\n",
      "K.reshape((3,2))=\n",
      " [[ 2  4]\n",
      " [ 6  8]\n",
      " [10 12]]\n",
      "Z.shape= (2, 3)\n",
      "L= [3 4 1 2]\n",
      "np.sort(J))= [1 2 3 4]\n",
      "np.argsort(K)= [2 3 0 1]\n",
      "\n",
      "------Iterating-------------\n",
      "Iterating through Z\n",
      "[1 2 3]\n",
      "[4 5 6]\n"
     ]
    }
   ],
   "source": [
    "# Importing the numpy package\n",
    "import numpy as np\n",
    "\n",
    "# Creating arrays.\n",
    "print('-----Creating numpy arrays-----------------')\n",
    "X=np.zeros(5)               # a list of 5 zeros. \n",
    "Y=np.ones((2,3))            # 2 rows and 3 columns of ones.\n",
    "Z=np.array([[1,2,3],[4,5,6]])  # 2 rows of numbers, with given number\n",
    "J=np.array([1,0,0,1])       # A list of 4 numbers.\n",
    "K=np.arange(2,13,2)        # Same as range, except for numpy arrays. The arguments are beginning number, ending number, interval\n",
    "L=np.linspace(1,10,20)     # 20 points that interpolate between 1 and 10.\n",
    "print('X={0}\\n Y={1}\\n Z={2}\\n K={3}\\n L={4}'.format(X,Y,Z,K,L))\n",
    "\n",
    "# Indexing\n",
    "print('\\n------Indexing-------------------------')\n",
    "print('Z=\\n',Z)\n",
    "print('K=\\n',K)\n",
    "print('Z[0,1]=',Z[0,1])       # Element in 0th row and 1st column\n",
    "print('K[2]=',K[2])           # 3rd element\n",
    "print('Z[1]=Z[1,:]',Z[1])           # The second row\n",
    "print('Z[:,1]=',Z[:,1])       # The second column\n",
    "print('J=',J)\n",
    "print('Z[J,:]=',Z[J,:])       # access the given rows\n",
    "print('Z[:,J]=',Z[:,J])       # access the given columns\n",
    "print('K[:2]=',K[:2])         # Everything before the 3rd element.\n",
    "print('K[2:]=',K[2:])          # Everything since the 3rd element.\n",
    "print('K[1:3]=',K[1:3])          # From the 2nd up to before the 4th element.\n",
    "print('Z[:,:2]=\\n',Z[:,:2])      # all rows and everything up to 3rd column\n",
    "print('K[[True,True,False,False,True,True]]=',K[[True,True,False,False,True,True]]) # Give only the first two and last two elements\n",
    "\n",
    "# Element wise operation\n",
    "print('\\n----Element wise operations----------------')\n",
    "print('Z+Y=\\n',Z+Y)\n",
    "print('Z-Y=\\n',Z-Y)\n",
    "print('Z*2=\\n',Z*2)\n",
    "print('Z/2=\\n',Z/2)\n",
    "print('Z/Z=\\n',Z/Z)\n",
    "print('Z>3=\\n',Z>3)            # Create True/False array of whether each element is greater than 3\n",
    "print('-Z=\\n',-Z)\n",
    "print('np.maximum(Z,3)=\\n',np.maximum(Z,3))\n",
    "\n",
    "# Simple statistics\n",
    "print('\\n-----Simple Statistics---------------------')\n",
    "print('np.sum(Z)=',np.sum(Z))\n",
    "print('np.average(Z)=',np.average(Z))\n",
    "print('np.std(Z)=',np.std(Z))\n",
    "print('np.max(Z)=',np.max(Z))\n",
    "print('Z>3=',Z>3)\n",
    "print('np.sum(Z>3)=',np.sum(Z>3))\n",
    "\n",
    "# Manipulating\n",
    "print('\\n-----Manipulating---------------------')\n",
    "#print('Z=\\n',Z)\n",
    "print('Z.T=\\n',Z.T)              # Transpose\n",
    "X=np.copy(Z)\n",
    "X[np.where(X>=3)]=3              # Set where X is larger or equal to 3 to 3.\n",
    "print('X=np.copy(Z); X[np.where(X>=3)]=3')\n",
    "print('X=\\n',X)\n",
    "print('np.hstack((Z,X))=\\n',np.hstack((Z,X)))    # Horizontally stack two arrays together\n",
    "print('np.vstack((Z,X))=\\n',np.vstack((Z,X)))   # Vertically stack two arrays together\n",
    "print('K=',K)\n",
    "print('K.reshape((3,2))=\\n',K.reshape((3,2)))\n",
    "print('Z.shape=',Z.shape)\n",
    "L=np.array([3,4,1,2])\n",
    "print('L=',L)\n",
    "print('np.sort(J))=',np.sort(L))\n",
    "print('np.argsort(K)=',np.argsort(L))\n",
    "\n",
    "\n",
    "\n",
    "# Iterating\n",
    "print('\\n------Iterating-------------')\n",
    "print('Iterating through Z')\n",
    "for row in Z:\n",
    "    print(row)\n"
   ]
  }
 ],
 "metadata": {
  "kernelspec": {
   "display_name": "Python 3",
   "language": "python",
   "name": "python3"
  },
  "language_info": {
   "codemirror_mode": {
    "name": "ipython",
    "version": 3
   },
   "file_extension": ".py",
   "mimetype": "text/x-python",
   "name": "python",
   "nbconvert_exporter": "python",
   "pygments_lexer": "ipython3",
   "version": "3.6.3"
  }
 },
 "nbformat": 4,
 "nbformat_minor": 2
}
