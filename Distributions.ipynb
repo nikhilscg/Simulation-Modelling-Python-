{
 "cells": [
  {
   "cell_type": "code",
   "execution_count": 1,
   "metadata": {},
   "outputs": [
    {
     "name": "stdout",
     "output_type": "stream",
     "text": [
      "# of people is between 15 and 25 with prob =0.7830\n"
     ]
    }
   ],
   "source": [
    "\n",
    "from scipy.stats import poisson, binom\n",
    "import scipy.optimize\n",
    "dist = poisson(mu=20)\n",
    "print('# of people is between 15 and 25 with prob ={0:.4f}'.format(dist.cdf(25)-dist.cdf(14)))"
   ]
  },
  {
   "cell_type": "code",
   "execution_count": 23,
   "metadata": {},
   "outputs": [
    {
     "data": {
      "image/png": "[encoded data removed]",
      "text/plain": [
       "<matplotlib.figure.Figure at 0x18dc3d888d0>"
      ]
     },
     "metadata": {},
     "output_type": "display_data"
    },
    {
     "data": {
      "text/plain": [
       "array([39, 41, 42, 42, 33, 39, 42, 38, 39, 39, 43, 42, 39, 37, 33, 44, 41,\n",
       "       39, 38, 35, 35, 37, 36, 41, 42, 35, 36, 42, 36, 38])"
      ]
     },
     "execution_count": 23,
     "metadata": {},
     "output_type": "execute_result"
    }
   ],
   "source": [
    "import matplotlib.pyplot as plt\n",
    "dist = binom(52,0.75)\n",
    "samples = dist.rvs(size = 30)\n",
    "plt.hist(samples,bins = 10) #bins = range(53), bins = range(0.56,5)\n",
    "plt.title(\"Histogram for Binomial\")\n",
    "plt.show()\n",
    "samples\n",
    "#print(\"Probability of at least 45 students scoring perfectly is {0:.2f}\".format(1-dist.cdf(44)))"
   ]
  },
  {
   "cell_type": "code",
   "execution_count": 26,
   "metadata": {},
   "outputs": [
    {
     "data": {
      "image/png": "[encoded data removed]",
      "text/plain": [
       "<matplotlib.figure.Figure at 0x18dc3e76630>"
      ]
     },
     "metadata": {},
     "output_type": "display_data"
    }
   ],
   "source": [
    "import matplotlib.pyplot as plt\n",
    "dist = binom(52,0.75)\n",
    "samples = dist.rvs(size = 3000)\n",
    "plt.hist(samples,bins = range(53),density =True) #bins = range(53), bins = range(0.56,5)\n",
    "plt.title(\"Histogram for Binomial\")\n",
    "plt.show()\n",
    "#samples\n",
    "#print(\"Probability of at least 45 students scoring perfectly is {0:.2f}\".format(1-dist.cdf(44)))"
   ]
  },
  {
   "cell_type": "code",
   "execution_count": 27,
   "metadata": {},
   "outputs": [
    {
     "data": {
      "image/png": "[encoded data removed]",
      "text/plain": [
       "<matplotlib.figure.Figure at 0x18dc3de47f0>"
      ]
     },
     "metadata": {},
     "output_type": "display_data"
    }
   ],
   "source": [
    "##superimposing \n",
    "import matplotlib.pyplot as plt\n",
    "dist = binom(52,0.75)\n",
    "samples = dist.rvs(size = 3000)\n",
    "plt.hist(samples,bins = range(53),density =True) #bins = range(53), bins = range(0.56,5)\n",
    "x=range(53)\n",
    "plt.vlines(x,0,dist.pmf(x))\n",
    "plt.title(\"Histogram for Binomial\")\n",
    "plt.show()\n",
    "#samples\n",
    "#print(\"Probability of at least 45 students scoring perfectly is {0:.2f}\".format(1-dist.cdf(44)))"
   ]
  },
  {
   "cell_type": "code",
   "execution_count": 28,
   "metadata": {},
   "outputs": [
    {
     "data": {
      "text/plain": [
       "array([  4.93038066e-32,   7.69139383e-30,   5.88391628e-28,\n",
       "         2.94195814e-26,   1.08116962e-24,   3.11376849e-23,\n",
       "         7.31735596e-22,   1.44256446e-20,   2.43432753e-19,\n",
       "         3.57034704e-18,   4.60574768e-17,   5.27567462e-16,\n",
       "         5.40756648e-15,   4.99159983e-14,   4.17155129e-13,\n",
       "         3.17037898e-12,   2.19945042e-11,   1.39729791e-10,\n",
       "         8.15090448e-10,   4.37574872e-09,   2.16599562e-08,\n",
       "         9.90169425e-08,   4.18571621e-07,   1.63788895e-06,\n",
       "         5.93734744e-06,   1.99494874e-05,   6.21503262e-05,\n",
       "         1.79545387e-04,   4.80925143e-04,   1.19402104e-03,\n",
       "         2.74624840e-03,   5.84685144e-03,   1.15109888e-02,\n",
       "         2.09290705e-02,   3.50869711e-02,   5.41341840e-02,\n",
       "         7.66900940e-02,   9.94898517e-02,   1.17816930e-01,\n",
       "         1.26879770e-01,   1.23707776e-01,   1.08621462e-01,\n",
       "         8.53454344e-02,   5.95433263e-02,   3.65379502e-02,\n",
       "         1.94869068e-02,   8.89619658e-03,   3.40705401e-03,\n",
       "         1.06470438e-03,   2.60743929e-04,   4.69339073e-05,\n",
       "         5.52163615e-06,   3.18555932e-07])"
      ]
     },
     "execution_count": 28,
     "metadata": {},
     "output_type": "execute_result"
    }
   ],
   "source": [
    "dist.pmf(x)"
   ]
  }
 ],
 "metadata": {
  "kernelspec": {
   "display_name": "Python 3",
   "language": "python",
   "name": "python3"
  },
  "language_info": {
   "codemirror_mode": {
    "name": "ipython",
    "version": 3
   },
   "file_extension": ".py",
   "mimetype": "text/x-python",
   "name": "python",
   "nbconvert_exporter": "python",
   "pygments_lexer": "ipython3",
   "version": "3.6.3"
  }
 },
 "nbformat": 4,
 "nbformat_minor": 2
}
