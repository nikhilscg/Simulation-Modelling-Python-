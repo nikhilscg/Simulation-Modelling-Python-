{
 "cells": [
  {
   "cell_type": "markdown",
   "metadata": {},
   "source": [
    "# Homework 5 (Due Tue 2/20)\n",
    "\n",
    "**Learning Objectives:**\n",
    "\n",
    "- Apply Python commands and constructs learned in class. (Code)\n",
    "- Use Python to simulate demand data in various kinds of business settings. (Analyze)\n",
    "\n",
    "## 1. Loops and conditional statements\n",
    "\n",
    "Use a `for` loop to iterate over a given list of tuples of three numbers each, and judge whether the sum of the first two numbers in each tuple is equal to the third. If it is correct, write it is correct, otherwise, write it is not. For example, if the input is\n",
    "\n",
    "```python\n",
    "inputList=[(1,3,5),(1,1,2),(4,5,9),(2,2,6)]\n",
    "```\n",
    "\n",
    "The output should be as follows.\n",
    "\n",
    "```\n",
    "1+3 is NOT equal to 5\n",
    "1+1 is EQUAL to 2\n",
    "4+5 is EQUAL to 9\n",
    "2+2 is NOT equal to 6\n",
    "```\n",
    "\n",
    "**Hints:**\n",
    "A tuple is a list of fixed length, indicated by parenthesis. For example `t=(3,5,6)` is a tuple of three elements. We can index a tuple like a list, so `t[0]=3`, `t[1]=2`, etc. Furthermore, we can do multiple assignments to a tuple as with a list, so\n",
    "```python\n",
    "a,b,c=t\n",
    "```\n",
    "would set `a` to be 3, `b` to be 5, and `c` to be 6.\n",
    "\n",
    "We can iterate through a list using `for` loop as\n",
    "```python\n",
    "listEx=['a',[3,4],6]\n",
    "for element in listEx:\n",
    "    print(element)\n",
    "```\n",
    "will print the elements of the list in order. The first element is `listEx[0]='a'`, second is `listEx[1]=[3,4]` and so on. You can check whether two numbers sum to the third using an `if` statement. For example, the following code\n",
    "```python\n",
    "if a>0:\n",
    "    print('Positive')\n",
    "elif a<0:\n",
    "    print('Negative')\n",
    "else:\n",
    "    print('Zero')\n",
    "```\n",
    "will decide what to print based on the comparison of `a` and zero. Finally you can format your printing using `str.format`. For example\n",
    "```python\n",
    "name='Bob'\n",
    "age=30\n",
    "print('{0} is {1} years old'.format(name,age))\n",
    "```\n",
    "will print Bob is 30 years old. The `{0}` means that we should replace with the zeroth argument in format, which is name, and `{1}` means that we should replace with the second."
   ]
  },
  {
   "cell_type": "code",
   "execution_count": 2,
   "metadata": {},
   "outputs": [
    {
     "name": "stdout",
     "output_type": "stream",
     "text": [
      "1+3 is NOT Equal to 5\n",
      "1+1 is EQUAL to 2\n",
      "4+5 is EQUAL to 9\n",
      "2+2 is NOT Equal to 6\n"
     ]
    }
   ],
   "source": [
    "inputList=[(1,3,5),(1,1,2),(4,5,9),(2,2,6)]\n",
    "# Write your code below\n",
    "for i in inputList:\n",
    "    if i[0]+i[1]==i[2]:\n",
    "        print(\"{0}+{1} is EQUAL to {2}\".format(i[0],i[1],i[2]))\n",
    "    else:\n",
    "        print(\"{0}+{1} is NOT Equal to {2}\".format(i[0],i[1],i[2]))\n"
   ]
  },
  {
   "cell_type": "code",
   "execution_count": null,
   "metadata": {
    "collapsed": true
   },
   "outputs": [],
   "source": [
    "# Correct output"
   ]
  },
  {
   "cell_type": "markdown",
   "metadata": {},
   "source": [
    "## 2. String splitting and joining\n",
    "\n",
    "Write a function `nameFormat` that changes an input name in the \"Last, First\" format to the \"First Last\" format. An example input to the function would be\n",
    "```python\n",
    "nameExample='Shi, Peng'\n",
    "```\n",
    "The output of running `nameFormat(nameExample)` should be\n",
    "```\n",
    "Peng Shi\n",
    "```\n",
    "Your function should be able to handle extraneous white space around the first and last name. For example ` Shi ,  Peng` should yield the same answer as above, as well as `Shi,Peng`. \n",
    "\n",
    "Furthermore, if there is a middle name given, you should output the middle initial inside. For example the code\n",
    "```python\n",
    "nameExample2='Doe, Jack Beverly James'\n",
    "print(nameFormat(nameExample2))\n",
    "```\n",
    "should yield the result\n",
    "```\n",
    "Jack B. Doe\n",
    "```\n",
    "For simplicity, you can assume that the input is properly capitalized.\n",
    "\n",
    "**Hints:** \n",
    "See the `str.split`, `str.join`, `str.strip` and string indexing methods in the course notes for 2/13. You will also need to use the `len()` method to find out the length of the list of names behind the comma (after splitting it with space), as well as an if statement to check whether there is a middle name to initial or not. "
   ]
  },
  {
   "cell_type": "code",
   "execution_count": 3,
   "metadata": {},
   "outputs": [
    {
     "name": "stdout",
     "output_type": "stream",
     "text": [
      "Peng Shi\n",
      "Peng Shi\n",
      "Peng Shi\n",
      "Jack B. Doe\n"
     ]
    }
   ],
   "source": [
    "def nameFormat(inputName):\n",
    "    # Write your code here\n",
    "    last,first = inputName.split(\",\")\n",
    "    last=last.strip()\n",
    "    first=first.strip()\n",
    "    #x=first.strip().split(\" \")\n",
    "    #print(len(first))\n",
    "\n",
    "    if len(first.split(\" \")) > 1:\n",
    "        first,middle = first.strip().split(\" \")[0],first.strip().split(\" \")[1]\n",
    "        middle = middle[0]+\".\"\n",
    "        first=\" \".join([first,middle])\n",
    "    else:\n",
    "        pass\n",
    "    \n",
    "    return(\"{0} {1}\".format(first,last)) \n",
    "    \n",
    "    \n",
    "    \n",
    "# Testing\n",
    "print(nameFormat('Shi, Peng'))\n",
    "print(nameFormat(' Shi,Peng'))\n",
    "print(nameFormat(' Shi  ,   Peng  '))\n",
    "print(nameFormat('Doe, Jack Beverly James'))\n",
    " "
   ]
  },
  {
   "cell_type": "code",
   "execution_count": null,
   "metadata": {
    "collapsed": true
   },
   "outputs": [],
   "source": [
    "# Correct output"
   ]
  },
  {
   "cell_type": "markdown",
   "metadata": {},
   "source": [
    "## 3. Optimizing a function by enumeration\n",
    "\n",
    "In the lab 2 solutions, as well as in the course notes to simulation modeling, we optimize over a single dimensional function by searching over a range of parameters, and obtaining the best parameter. In this problem, you will create a generic function called `findMin` that does exactly this. For example, given the input\n",
    "\n",
    "```python\n",
    "def f(x):\n",
    "    return (x-3)**2+1\n",
    "domain=[2,3,5,8]\n",
    "```\n",
    "The command `xBest=findMin(f,domain)` should set `xBest` to `3`, which is what minimizes the function in the given domain. Once you are done, you should test your function by changing `f` and `domain`. If there are multiple parameters within the domain that achieve the minimum value, then you can return any of them.\n",
    "\n",
    "**Hints:**\n",
    "One way of doing this is to iterate through the domain with a `for` loop, compute the value `f(x)` for each `x`, and keep track of what is the best found so far. (See the Lab 2 solutions, `analyzeRM1` function for an example.)\n",
    "\n",
    "Another way is to use list comprehension to obtain a list of values, and obtain the index of the minimum element. (See course notes for 2/13, as well as the `analyzePrice` function in Lab 2 solutions.)\n",
    "\n"
   ]
  },
  {
   "cell_type": "code",
   "execution_count": 4,
   "metadata": {},
   "outputs": [
    {
     "name": "stdout",
     "output_type": "stream",
     "text": [
      "The minimum of function in domain [2, 3, 5, 8] is 3.\n"
     ]
    }
   ],
   "source": [
    "def f(x):\n",
    "    return (x-3)**2+1\n",
    "domain=[2,3,5,8]\n",
    "\n",
    "def findMin(f,domain):\n",
    "    # complete your code here\n",
    "    value=f(domain[0])\n",
    "    for i in domain:\n",
    "        \n",
    "        if f(i) < value:\n",
    "            value = f(i)\n",
    "            minimizer=i\n",
    "        else:\n",
    "            pass\n",
    "    return(minimizer)\n",
    "        \n",
    "# Testing\n",
    "print('The minimum of function in domain {0} is {1}.'.format(domain,findMin(f,domain)))"
   ]
  },
  {
   "cell_type": "code",
   "execution_count": null,
   "metadata": {
    "collapsed": true
   },
   "outputs": [],
   "source": [
    "# Correct output"
   ]
  },
  {
   "cell_type": "markdown",
   "metadata": {},
   "source": [
    "## 4. Generating random numbers and plotting histogram\n",
    "\n",
    "In this exercise, you will use the `scipy.stats` package to generate normal and general discrete samples, in order to plot the shape of the probability distributions of the daily earnings from using Rockport in the example in DMD 5.1 (from pre-class readings). Simulate 10000 samples and plot the frequency instead of the density. You should also include the proper titles and labels of the x and y axis.\n",
    "\n",
    "**Hints:**\n",
    "See page 196-197 in DMD for description of the distribution. It has the form $price*min(demand,3500)-10000$, where price is normally distributed, demand follows a discrete distribution. You should make the price zero whenever you get a negative sample.\n",
    "\n",
    "You can use the `norm` and `rv_discrete` modules from `scipy.stats` (see course notes to probability distributions and simulation modeling sessions). To sample, use `rvs()` with the proper `size` parameter. Then you can manipulate the resultant numpy arrays by element wise operations. (See code examples at the end of Lab 2.) You can compute the minimum of 3500 and demand using `np.minimum` and plot the histogram using `plt.hist`. The output should look as follows (see the web version of this homework on nbviewer.jupyter.org to see the graph)."
   ]
  },
  {
   "cell_type": "code",
   "execution_count": 7,
   "metadata": {},
   "outputs": [
    {
     "data": {
      "image/png": "[encoded data removed]",
      "text/plain": [
       "<matplotlib.figure.Figure at 0x21cbde60cc0>"
      ]
     },
     "metadata": {},
     "output_type": "display_data"
    }
   ],
   "source": [
    "from scipy.stats import norm,rv_discrete\n",
    "import numpy as np\n",
    "import matplotlib.pyplot as plt\n",
    "np.random.seed(0)\n",
    "# Complete your code below\n",
    "max_capacity=3500\n",
    "fixed_costs = 10000\n",
    "demand=[0,1000,2000,3000,4000,5000,6000]\n",
    "p_demand = [0.02,0.03,0.05,0.08,0.33,0.29,0.20]\n",
    "d_dist = rv_discrete(values=(demand,p_demand))\n",
    "dailyDemand=d_dist.rvs(size=10000)\n",
    "price_dist = norm(loc =3.65 ,scale = 0.20)\n",
    "dailyPrice = price_dist.rvs(10000)\n",
    "#dailyEarnings = []\n",
    "for i in range(0,len(dailyPrice)):\n",
    "    if dailyPrice[i]<0:\n",
    "        dailyPrice[i]=0\n",
    "    else:\n",
    "        pass\n",
    "    \n",
    "\n",
    "dailyEarnings= dailyPrice*np.minimum(dailyDemand,max_capacity)-fixed_costs\n",
    "    \n",
    "\n",
    "plt.hist(dailyEarnings,bins=50)\n",
    "plt.title(\"Distribution of earnings from Rockport (10000)\")\n",
    "plt.xlabel(\"Earnings from Rockport\")\n",
    "plt.ylabel(\"Frequency\")\n",
    "plt.show()\n",
    "#dailyEarnings = dailyPrice*min(dailyDemand,max_capacity)-fixed_costs   \n",
    "        "
   ]
  },
  {
   "cell_type": "code",
   "execution_count": null,
   "metadata": {
    "collapsed": true
   },
   "outputs": [],
   "source": [
    "# Correct output"
   ]
  },
  {
   "cell_type": "markdown",
   "metadata": {},
   "source": [
    "## 5. Simulating stock trading strategies\n",
    "\n",
    "One simple model of stock pricing is that the log of daily returns follows a normal distribution. In other words, if $p_t$ is the price on day $t$, then $$log(p_t)-log(p_{t-1}) \\sim Normal(\\mu,\\sigma).$$ Suppose at time $t=0$, you bought a share of the stock at price $p_0=1$. You plan to sell the stock on the day when it either exceeds price $a > 1$ or falls below $b<1$, which ever comes first. You would like to write a function `analyzeStrategy`, with inputs $\\mu$, $\\sigma$, $a$ and $b$, and outputs the expected percentage earnings.\n",
    "\n",
    "### a) generating prices\n",
    "Given the input\n",
    "```python\n",
    "mu=.001\n",
    "sigma=.03\n",
    "```\n",
    "generate 1000 samples of a normal random variable with this mean and standard deviation, storing it in a numpy array called `z`. The command `np.cumsum(z)` calculates the running sum of this numpy array. The command `np.exp(inputArray)` takes the exponent of a given input array. Use these two commands in combination to produce an array of stock price `p`. Then plot it using `plt.plot(p)`, and give the proper labels to the graph. The output should look as follows.\n",
    "\n"
   ]
  },
  {
   "cell_type": "code",
   "execution_count": 8,
   "metadata": {},
   "outputs": [
    {
     "data": {
      "image/png": "[encoded data removed]",
      "text/plain": [
       "<matplotlib.figure.Figure at 0x21cbdd7cdd8>"
      ]
     },
     "metadata": {},
     "output_type": "display_data"
    }
   ],
   "source": [
    "from scipy.stats import norm\n",
    "import numpy as np\n",
    "import matplotlib.pyplot as plt\n",
    "mu=.001\n",
    "sigma=.03\n",
    "np.random.seed(0)\n",
    "\n",
    "# Complete your code here\n",
    "dist = norm(loc=mu,scale=sigma)\n",
    "sample=dist.rvs(size=1000)\n",
    "stock_price = np.exp(sample.cumsum())\n",
    "stock_price\n",
    "plt.plot(stock_price)\n",
    "plt.xlabel(\"Day\")\n",
    "plt.ylabel(\"Price\")\n",
    "plt.title(\"Simulated Stock price\")\n",
    "plt.show()"
   ]
  },
  {
   "cell_type": "code",
   "execution_count": null,
   "metadata": {
    "collapsed": true
   },
   "outputs": [],
   "source": [
    "# Correct output"
   ]
  },
  {
   "cell_type": "markdown",
   "metadata": {},
   "source": [
    "### b) calculating value of strategy\n",
    "Suppose you are given the following array of prices, as well as the values of $a$ and $b$, write a function `computeEarning` to compute your percentage earnings. For example, the following input\n",
    "```python\n",
    "a=1.05\n",
    "b=.95\n",
    "p=np.array([1,1.03,1.04,1.045,0.94])\n",
    "print(computeEarning(p,a,b))\n",
    "```\n",
    "should yield -0.06, because you bought the stock at price 1 and sold at price 0.94, so it's a 6% loss. However, the following input, \n",
    "```python\n",
    "a=1.05\n",
    "b=.95\n",
    "p=np.array([1,1.03,1.04,1.045,0.96,1.07])\n",
    "print(computeEarning(p,a,b))\n",
    "```\n",
    "should yield 0.07, as you sold at price 1.07. Suppose that every value in $p$ stays strictly within $a$ and $b$, then you should return 0.\n",
    "\n",
    "**Hint:**\n",
    "You can simply iterate through the given array using a for loop, and have a `if` statement to check whether the current price is at or above $a$ or at or below $b$. Whenever that happens, you should exit the loop by returning the current price minus 1. If you went through the whole loop and didn't hit any of the conditions, then return 0.\n"
   ]
  },
  {
   "cell_type": "code",
   "execution_count": 9,
   "metadata": {},
   "outputs": [
    {
     "name": "stdout",
     "output_type": "stream",
     "text": [
      "-0.06\n",
      "0.07\n"
     ]
    }
   ],
   "source": [
    "import numpy as np\n",
    "\n",
    "def computeEarning(p,a,b):\n",
    "    # Complete your code here.\n",
    "    for i in p:\n",
    "        if i>a:\n",
    "            sp = i\n",
    "            break\n",
    "        elif i<b:\n",
    "            sp = i\n",
    "            break\n",
    "        else:\n",
    "            sp=0\n",
    "    return sp/1-1\n",
    "\n",
    "# Testing\n",
    "a=1.05\n",
    "b=.95\n",
    "p=np.array([1,1.03,1.04,1.045,0.94])\n",
    "print(computeEarning(p,a,b))\n",
    "p=np.array([1,1.03,1.04,1.045,0.96,1.07])\n",
    "print(computeEarning(p,a,b))"
   ]
  },
  {
   "cell_type": "code",
   "execution_count": null,
   "metadata": {
    "collapsed": true
   },
   "outputs": [],
   "source": [
    "# Correct output"
   ]
  },
  {
   "cell_type": "markdown",
   "metadata": {},
   "source": [
    "### c) Putting everything together\n",
    "\n",
    "Combine the code you have done and create a function that simulates 1000 price paths and average the result to compute the expected returns. To make things easy, you should first put the code that generates price path into a `generatePrices()` function. Then, you can use the `np.average()` function as well as list comprehension to compute the average of the `computeEarning` function evaluated on 1000 independent price paths (see course notes on 2/8 for explanation of list comprehension). As an alternative to list comprehension, you can use a for loop that generates a `p` at a time, feed it to your `computeEarning` function, and add it to a running sum. Finally, you can divide your running sum by the number of simulations to get the average. "
   ]
  },
  {
   "cell_type": "code",
   "execution_count": 16,
   "metadata": {},
   "outputs": [
    {
     "name": "stdout",
     "output_type": "stream",
     "text": [
      "Expected return when mu=0.001, sigma=0.03, a=1.1, b=0.9 is 0.022 and standard deviation is 0.117.\n"
     ]
    }
   ],
   "source": [
    "import numpy as np\n",
    "np.random.seed(0)\n",
    "\n",
    "def generatePrice(mu,sigma):\n",
    "    # Adapt your code from part a) and put here\n",
    "    dist = norm(loc=mu,scale=sigma)\n",
    "    sample=dist.rvs(size=1000)\n",
    "    stock_price = np.exp(sample.cumsum())\n",
    "    return stock_price\n",
    "    pass\n",
    "\n",
    "def computeEarning(p,a,b):\n",
    "    # Copy your code from part b) here\n",
    "    for i in p:\n",
    "        if i>a:\n",
    "            sp = i\n",
    "            break\n",
    "        elif i<b:\n",
    "            sp = i\n",
    "            break\n",
    "        else:\n",
    "            sp=0\n",
    "    return sp/1-1\n",
    "    pass\n",
    "    \n",
    "def analyzeStrategy(mu,sigma,a,b):\n",
    "    # Complete your code here\n",
    "    returns = []\n",
    "    for i in range(1,1000):\n",
    "        p = generatePrice(mu,sigma)\n",
    "        returns.append(computeEarning(p,a,b))\n",
    "        \n",
    "    return [np.average(returns),np.std(returns)]\n",
    "    pass\n",
    "    \n",
    "    \n",
    "# Testing\n",
    "mu=0.001\n",
    "sigma=0.03\n",
    "a=1.1\n",
    "b=0.9\n",
    "avgReturns, stdReturns = analyzeStrategy(mu,sigma,a,b)\n",
    "print('Expected return when mu={0}, sigma={1}, a={2}, b={3} is {4:.3f} and standard deviation is {5:.3f}.'.format(mu,sigma,a,b,avgReturns,stdReturns))\n"
   ]
  },
  {
   "cell_type": "code",
   "execution_count": 13,
   "metadata": {},
   "outputs": [],
   "source": [
    "import numpy as np\n",
    "np.random.seed(0)\n",
    "\n",
    "def generatePrice(mu,sigma):\n",
    "    # Adapt your code from part a) and put here\n",
    "    dist = norm(loc=mu,scale=sigma)\n",
    "    sample=dist.rvs(size=1000)\n",
    "    stock_price = np.exp(sample.cumsum())\n",
    "    return stock_price\n",
    "    pass\n",
    "\n",
    "def computeEarning(p,a,b):\n",
    "    # Copy your code from part b) here\n",
    "    for i in p:\n",
    "        if i>a:\n",
    "            sp = i\n",
    "            break\n",
    "        elif i<b:\n",
    "            sp = i\n",
    "            break\n",
    "        else:\n",
    "            sp=0\n",
    "    return sp/1-1\n",
    "    pass\n",
    "    \n",
    "def analyzeStrategy(mu,sigma,a,b):\n",
    "    # Complete your code here\n",
    "    returns = []\n",
    "    for i in range(1,1000):\n",
    "        p = generatePrice(mu,sigma)\n",
    "        returns.append(computeEarning(p,a,b))\n",
    "        \n",
    "    return [np.average(returns),np.std(returns)]\n",
    "    pass\n",
    "    \n",
    "    \n",
    "# Testing\n",
    "mu=0.001\n",
    "sigma=0.03\n",
    "a=1.1\n",
    "b=0.9\n",
    "avgReturns, stdReturns = analyzeStrategy(mu,sigma,a,b)\n",
    "print('Expected return when mu={0}, sigma={1}, a={2}, b={3} is {4:.3f} and standard deviation is {5:.3f}.'.format(mu,sigma,a,b,avgReturns,stdReturns))\n"
   ]
  },
  {
   "cell_type": "code",
   "execution_count": null,
   "metadata": {
    "collapsed": true
   },
   "outputs": [],
   "source": [
    "# Correct output"
   ]
  },
  {
   "cell_type": "markdown",
   "metadata": {},
   "source": [
    "## 6. Fun with Numpy\n",
    "\n",
    "This question gives you additional practice working with `numpy` arrays, which help you to code complex computations over many numbers using very short syntax. They are more confusing than loops and if statements to think about but once you master them it will make you able to code fast and make the code itself run faster.\n",
    "\n",
    "**a)** Create an array of 20 exponentially distributed numbers with parameter $scale=2$. You can do this using `scipy.stats.expon` module (just as you generate normal random variables.) Then use `np.cumsum` to compute an array of running totals, calling it `x`. Print this array, then plot it using `plt.plot` by making it the x values, and set the y values to a numpy array `[1,2,3,...,20]` created using `np.arange`. The output should look like th  below. (The array `x` simulates the arrival time stamp of customers to a queue, assuming that on average about 1 customer arrives every 2 minutes. Having exponentially distributed inter-arrival times is called a Poisson process.)"
   ]
  },
  {
   "cell_type": "code",
   "execution_count": null,
   "metadata": {
    "collapsed": true
   },
   "outputs": [],
   "source": [
    "import numpy as np\n",
    "from scipy.stats import expon\n",
    "import matplotlib.pyplot as plt\n",
    "\n",
    "np.random.seed(0)\n",
    "#Complete your code here\n"
   ]
  },
  {
   "cell_type": "code",
   "execution_count": null,
   "metadata": {
    "collapsed": true
   },
   "outputs": [],
   "source": [
    "# Correct output"
   ]
  },
  {
   "cell_type": "markdown",
   "metadata": {},
   "source": [
    "**b)** Stack this array vertically with an array of ones, created with the same length. (Use the `np.vstack`, `np.ones` and `len` methods.) Print the shape of this array to make sure it is `(2,20)` (2 rows and 20 columns), then print the array itself. Call this array `y1`. "
   ]
  },
  {
   "cell_type": "code",
   "execution_count": null,
   "metadata": {
    "collapsed": true
   },
   "outputs": [],
   "source": [
    "# Correct output"
   ]
  },
  {
   "cell_type": "markdown",
   "metadata": {},
   "source": [
    "**c)** Generate another array of 20 numbers, this time uniformly distributed between 10 and 40, and add this to the array `x` from part a), then vstack it with an array of -1's. Call the final array `y2`"
   ]
  },
  {
   "cell_type": "code",
   "execution_count": null,
   "metadata": {
    "collapsed": true
   },
   "outputs": [],
   "source": [
    "from scipy.stats import uniform\n",
    "\n",
    "#complete your code below"
   ]
  },
  {
   "cell_type": "code",
   "execution_count": null,
   "metadata": {
    "collapsed": true
   },
   "outputs": [],
   "source": [
    "# Correct output"
   ]
  },
  {
   "cell_type": "markdown",
   "metadata": {},
   "source": [
    "**d)** Now horizontally stack `y1` from part b) with `y2` from part c, and sort by the first row using `argsort`. (See Lab 2 solutions and explanations in Course Notes for 2/8). After sorting, replace the second row (of 1's and -1's) with its cumsum. Call the final array `y`. The answer should look something like below"
   ]
  },
  {
   "cell_type": "code",
   "execution_count": null,
   "metadata": {
    "collapsed": true
   },
   "outputs": [],
   "source": [
    "# Correct output"
   ]
  },
  {
   "cell_type": "markdown",
   "metadata": {},
   "source": [
    "**e)** Put everything you have written into a function `simulateQueue`, which takes as input a parameter `n`, which replaces the length 20 of the arrays, and outputs the final array `y` from part d). Evaluate this function with `n=500` Plot the first 800 columns of this array, setting the x value to be the first row and the y value to be the second row. Title it 'Simulation of number of customers in large call center', with horizontal label 'Minutes' and vertical label 'Number of active customers.' The data you have generated has the first row corresponding to time stamps and the second row corresponding to the number of remaining customers. It assumes that customers arrive with any moment as likely as any other (so the total number of customers within say 30 minutes will be Poisson distributed), and that each customer stays in the system with a uniformly random amount of time between 10 and 40 minutes. The average height of the area under the curve corresponds to the average # of customers in the system at a random time. The maximum height corresponds to the peak # of customers. "
   ]
  },
  {
   "cell_type": "code",
   "execution_count": null,
   "metadata": {
    "collapsed": true
   },
   "outputs": [],
   "source": [
    "import numpy as np\n",
    "import matplotlib.pyplot as plt\n",
    "from scipy.stats import uniform,expon\n",
    "np.random.seed(0)\n",
    "\n",
    "def simulateQueue(n):\n",
    "    # Adapt your code from parts a) to d) and put here.\n",
    "    pass\n",
    "\n",
    "queue=simulateQueue(500)[:800,:]\n",
    "# plot x=first row of queue and y=second row of queue."
   ]
  },
  {
   "cell_type": "code",
   "execution_count": null,
   "metadata": {
    "collapsed": true
   },
   "outputs": [],
   "source": [
    "# Correct output"
   ]
  }
 ],
 "metadata": {
  "kernelspec": {
   "display_name": "Python 3",
   "language": "python",
   "name": "python3"
  },
  "language_info": {
   "codemirror_mode": {
    "name": "ipython",
    "version": 3
   },
   "file_extension": ".py",
   "mimetype": "text/x-python",
   "name": "python",
   "nbconvert_exporter": "python",
   "pygments_lexer": "ipython3",
   "version": "3.6.3"
  }
 },
 "nbformat": 4,
 "nbformat_minor": 2
}
